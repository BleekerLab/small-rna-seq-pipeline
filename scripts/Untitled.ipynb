{
 "cells": [
  {
   "cell_type": "code",
   "execution_count": 1,
   "metadata": {},
   "outputs": [],
   "source": [
    "import os\n",
    "import pandas as pd"
   ]
  },
  {
   "cell_type": "code",
   "execution_count": 2,
   "metadata": {},
   "outputs": [],
   "source": [
    "samples = os.listdir(\"../results/\")"
   ]
  },
  {
   "cell_type": "code",
   "execution_count": 3,
   "metadata": {},
   "outputs": [],
   "source": [
    "# file locations\n",
    "dfs_list = [\"../results/\" + s + \"/Results.txt\" for s in samples]"
   ]
  },
  {
   "cell_type": "code",
   "execution_count": 4,
   "metadata": {},
   "outputs": [],
   "source": [
    "# read each dataframe individually\n",
    "dfs = [pd.read_csv(df,sep=\"\\t\") for df in dfs_list]"
   ]
  },
  {
   "cell_type": "code",
   "execution_count": 5,
   "metadata": {},
   "outputs": [],
   "source": [
    "# filter rows (microRNA == Y)\n",
    "dfs_filtered = [ df.query(\"MIRNA == 'Y' \") for df in dfs]"
   ]
  },
  {
   "cell_type": "code",
   "execution_count": 6,
   "metadata": {},
   "outputs": [],
   "source": [
    "# select only cols of interest\n",
    "dfs_filtered = [df.loc[:,[\"MajorRNA\",\"MajorRNAReads\"]] for df in dfs_filtered]"
   ]
  },
  {
   "cell_type": "code",
   "execution_count": 19,
   "metadata": {},
   "outputs": [
    {
     "data": {
      "text/plain": [
       "20"
      ]
     },
     "execution_count": 19,
     "metadata": {},
     "output_type": "execute_result"
    }
   ],
   "source": [
    "# rename column MajorRNAReads\n",
    "dfs_filtered = [df.rename(columns={\"MajorRNAReads\":sample}) for df,sample in zip(dfs_filtered,samples)]\n",
    "len(dfs_filtered)"
   ]
  },
  {
   "cell_type": "code",
   "execution_count": 8,
   "metadata": {},
   "outputs": [
    {
     "data": {
      "text/html": [
       "<div>\n",
       "<style scoped>\n",
       "    .dataframe tbody tr th:only-of-type {\n",
       "        vertical-align: middle;\n",
       "    }\n",
       "\n",
       "    .dataframe tbody tr th {\n",
       "        vertical-align: top;\n",
       "    }\n",
       "\n",
       "    .dataframe thead th {\n",
       "        text-align: right;\n",
       "    }\n",
       "</style>\n",
       "<table border=\"1\" class=\"dataframe\">\n",
       "  <thead>\n",
       "    <tr style=\"text-align: right;\">\n",
       "      <th></th>\n",
       "      <th>MajorRNA</th>\n",
       "      <th>LA2172</th>\n",
       "    </tr>\n",
       "  </thead>\n",
       "  <tbody>\n",
       "    <tr>\n",
       "      <th>146</th>\n",
       "      <td>UUCCACAGCUUUCUUGAACUG</td>\n",
       "      <td>20153</td>\n",
       "    </tr>\n",
       "    <tr>\n",
       "      <th>453</th>\n",
       "      <td>UUCUUGGCUAGAGUUGUAUUGC</td>\n",
       "      <td>73</td>\n",
       "    </tr>\n",
       "    <tr>\n",
       "      <th>1721</th>\n",
       "      <td>CUAGAUUCACGCACAAGCUCG</td>\n",
       "      <td>2138</td>\n",
       "    </tr>\n",
       "    <tr>\n",
       "      <th>2019</th>\n",
       "      <td>UUUUAGCAAGAGUUGUUUUCCC</td>\n",
       "      <td>1091</td>\n",
       "    </tr>\n",
       "    <tr>\n",
       "      <th>2298</th>\n",
       "      <td>UCGGACCAGGCUUCAUUCCC</td>\n",
       "      <td>8486</td>\n",
       "    </tr>\n",
       "  </tbody>\n",
       "</table>\n",
       "</div>"
      ],
      "text/plain": [
       "                    MajorRNA  LA2172\n",
       "146    UUCCACAGCUUUCUUGAACUG   20153\n",
       "453   UUCUUGGCUAGAGUUGUAUUGC      73\n",
       "1721   CUAGAUUCACGCACAAGCUCG    2138\n",
       "2019  UUUUAGCAAGAGUUGUUUUCCC    1091\n",
       "2298    UCGGACCAGGCUUCAUUCCC    8486"
      ]
     },
     "execution_count": 8,
     "metadata": {},
     "output_type": "execute_result"
    }
   ],
   "source": [
    "# show one df\n",
    "dfs_filtered[0].head()"
   ]
  },
  {
   "cell_type": "code",
   "execution_count": 9,
   "metadata": {},
   "outputs": [
    {
     "data": {
      "text/plain": [
       "20"
      ]
     },
     "execution_count": 9,
     "metadata": {},
     "output_type": "execute_result"
    }
   ],
   "source": [
    "len(dfs_filtered)"
   ]
  },
  {
   "cell_type": "code",
   "execution_count": 18,
   "metadata": {},
   "outputs": [
    {
     "name": "stdout",
     "output_type": "stream",
     "text": [
      "(34729272, 18)\n"
     ]
    },
    {
     "data": {
      "text/html": [
       "<div>\n",
       "<style scoped>\n",
       "    .dataframe tbody tr th:only-of-type {\n",
       "        vertical-align: middle;\n",
       "    }\n",
       "\n",
       "    .dataframe tbody tr th {\n",
       "        vertical-align: top;\n",
       "    }\n",
       "\n",
       "    .dataframe thead th {\n",
       "        text-align: right;\n",
       "    }\n",
       "</style>\n",
       "<table border=\"1\" class=\"dataframe\">\n",
       "  <thead>\n",
       "    <tr style=\"text-align: right;\">\n",
       "      <th></th>\n",
       "      <th>MajorRNA</th>\n",
       "      <th>LA2172</th>\n",
       "      <th>Moneymaker</th>\n",
       "      <th>LA0735</th>\n",
       "      <th>LA1278</th>\n",
       "      <th>PI134418</th>\n",
       "      <th>LA1840</th>\n",
       "      <th>LA2695</th>\n",
       "      <th>LA0716</th>\n",
       "      <th>LYC4</th>\n",
       "      <th>PI127826</th>\n",
       "      <th>LA1578</th>\n",
       "      <th>LA2133</th>\n",
       "      <th>LA1718</th>\n",
       "      <th>LA4024</th>\n",
       "      <th>LA1954</th>\n",
       "      <th>LA2386</th>\n",
       "      <th>LA1364</th>\n",
       "    </tr>\n",
       "  </thead>\n",
       "  <tbody>\n",
       "    <tr>\n",
       "      <th>0</th>\n",
       "      <td>UCGAUAAACCUCUGCAUCCAG</td>\n",
       "      <td>8098</td>\n",
       "      <td>2887</td>\n",
       "      <td>6495</td>\n",
       "      <td>5064</td>\n",
       "      <td>7927</td>\n",
       "      <td>3763</td>\n",
       "      <td>3161</td>\n",
       "      <td>12254</td>\n",
       "      <td>5558</td>\n",
       "      <td>2776</td>\n",
       "      <td>6299</td>\n",
       "      <td>3597</td>\n",
       "      <td>9651</td>\n",
       "      <td>8672</td>\n",
       "      <td>4472</td>\n",
       "      <td>4870</td>\n",
       "      <td>9853</td>\n",
       "    </tr>\n",
       "    <tr>\n",
       "      <th>1</th>\n",
       "      <td>UCGAUAAACCUCUGCAUCCAG</td>\n",
       "      <td>8098</td>\n",
       "      <td>2887</td>\n",
       "      <td>6495</td>\n",
       "      <td>5064</td>\n",
       "      <td>7927</td>\n",
       "      <td>3763</td>\n",
       "      <td>3161</td>\n",
       "      <td>12254</td>\n",
       "      <td>5558</td>\n",
       "      <td>2776</td>\n",
       "      <td>6299</td>\n",
       "      <td>3597</td>\n",
       "      <td>9651</td>\n",
       "      <td>8672</td>\n",
       "      <td>4472</td>\n",
       "      <td>4870</td>\n",
       "      <td>11231</td>\n",
       "    </tr>\n",
       "    <tr>\n",
       "      <th>2</th>\n",
       "      <td>UCGAUAAACCUCUGCAUCCAG</td>\n",
       "      <td>8098</td>\n",
       "      <td>2887</td>\n",
       "      <td>6495</td>\n",
       "      <td>5064</td>\n",
       "      <td>7927</td>\n",
       "      <td>3763</td>\n",
       "      <td>3161</td>\n",
       "      <td>12254</td>\n",
       "      <td>5558</td>\n",
       "      <td>2776</td>\n",
       "      <td>6299</td>\n",
       "      <td>3597</td>\n",
       "      <td>9651</td>\n",
       "      <td>8672</td>\n",
       "      <td>4472</td>\n",
       "      <td>19422</td>\n",
       "      <td>9853</td>\n",
       "    </tr>\n",
       "    <tr>\n",
       "      <th>3</th>\n",
       "      <td>UCGAUAAACCUCUGCAUCCAG</td>\n",
       "      <td>8098</td>\n",
       "      <td>2887</td>\n",
       "      <td>6495</td>\n",
       "      <td>5064</td>\n",
       "      <td>7927</td>\n",
       "      <td>3763</td>\n",
       "      <td>3161</td>\n",
       "      <td>12254</td>\n",
       "      <td>5558</td>\n",
       "      <td>2776</td>\n",
       "      <td>6299</td>\n",
       "      <td>3597</td>\n",
       "      <td>9651</td>\n",
       "      <td>8672</td>\n",
       "      <td>4472</td>\n",
       "      <td>19422</td>\n",
       "      <td>11231</td>\n",
       "    </tr>\n",
       "    <tr>\n",
       "      <th>4</th>\n",
       "      <td>UCGAUAAACCUCUGCAUCCAG</td>\n",
       "      <td>8098</td>\n",
       "      <td>2887</td>\n",
       "      <td>6495</td>\n",
       "      <td>5064</td>\n",
       "      <td>7927</td>\n",
       "      <td>3763</td>\n",
       "      <td>3161</td>\n",
       "      <td>12254</td>\n",
       "      <td>5558</td>\n",
       "      <td>2776</td>\n",
       "      <td>6299</td>\n",
       "      <td>3597</td>\n",
       "      <td>9651</td>\n",
       "      <td>8672</td>\n",
       "      <td>8614</td>\n",
       "      <td>4870</td>\n",
       "      <td>9853</td>\n",
       "    </tr>\n",
       "  </tbody>\n",
       "</table>\n",
       "</div>"
      ],
      "text/plain": [
       "                MajorRNA  LA2172  Moneymaker  LA0735  LA1278  PI134418  \\\n",
       "0  UCGAUAAACCUCUGCAUCCAG    8098        2887    6495    5064      7927   \n",
       "1  UCGAUAAACCUCUGCAUCCAG    8098        2887    6495    5064      7927   \n",
       "2  UCGAUAAACCUCUGCAUCCAG    8098        2887    6495    5064      7927   \n",
       "3  UCGAUAAACCUCUGCAUCCAG    8098        2887    6495    5064      7927   \n",
       "4  UCGAUAAACCUCUGCAUCCAG    8098        2887    6495    5064      7927   \n",
       "\n",
       "   LA1840  LA2695  LA0716  LYC4  PI127826  LA1578  LA2133  LA1718  LA4024  \\\n",
       "0    3763    3161   12254  5558      2776    6299    3597    9651    8672   \n",
       "1    3763    3161   12254  5558      2776    6299    3597    9651    8672   \n",
       "2    3763    3161   12254  5558      2776    6299    3597    9651    8672   \n",
       "3    3763    3161   12254  5558      2776    6299    3597    9651    8672   \n",
       "4    3763    3161   12254  5558      2776    6299    3597    9651    8672   \n",
       "\n",
       "   LA1954  LA2386  LA1364  \n",
       "0    4472    4870    9853  \n",
       "1    4472    4870   11231  \n",
       "2    4472   19422    9853  \n",
       "3    4472   19422   11231  \n",
       "4    8614    4870    9853  "
      ]
     },
     "execution_count": 18,
     "metadata": {},
     "output_type": "execute_result"
    }
   ],
   "source": [
    "from functools import reduce\n",
    "df_merged = reduce(lambda left,right: pd.merge(left,right,on=[\"MajorRNA\"]),dfs_filtered[0:17])\n",
    "\n",
    "#df_merged = pd.concat(dfs_filtered,axis=0,join=\"outer\",ignore_index=True)\n",
    "\n",
    "#df_merged = dfs_filtered[0].join(dfs_filtered[1:],on=\"MajorRNA\",how=\"inner\")\n",
    "\n",
    "\n",
    "print(df_merged.shape)\n",
    "df_merged.head()"
   ]
  },
  {
   "cell_type": "code",
   "execution_count": null,
   "metadata": {},
   "outputs": [],
   "source": []
  },
  {
   "cell_type": "code",
   "execution_count": null,
   "metadata": {},
   "outputs": [],
   "source": []
  }
 ],
 "metadata": {
  "kernelspec": {
   "display_name": "Python 3",
   "language": "python",
   "name": "python3"
  },
  "language_info": {
   "codemirror_mode": {
    "name": "ipython",
    "version": 3
   },
   "file_extension": ".py",
   "mimetype": "text/x-python",
   "name": "python",
   "nbconvert_exporter": "python",
   "pygments_lexer": "ipython3",
   "version": "3.7.1"
  }
 },
 "nbformat": 4,
 "nbformat_minor": 2
}
