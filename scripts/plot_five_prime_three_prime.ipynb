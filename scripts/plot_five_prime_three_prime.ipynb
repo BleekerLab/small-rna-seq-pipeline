{
 "cells": [
  {
   "cell_type": "markdown",
   "metadata": {},
   "source": [
    "## what this script does\n",
    "It takes a shortstack result dataframe and generate a barplot with the numbers of A,C,G,U found in the sequences of the MajorRNA column"
   ]
  },
  {
   "cell_type": "markdown",
   "metadata": {},
   "source": [
    "## Steps\n",
    "\n",
    "1. Reads a shortstack result dataframe\n",
    "2. extracts the majorRNA column and puts it into a list\n",
    "3. extracts the first nucleotide from the first column\n",
    "4. builds a dataframe that stores this information.\n",
    "5. makes a barplot with one bar per letter (n=4, x-axis) and the number of times the letter was found.\n",
    "\n",
    "**Dataframe with the information**: from a list of sequences, count the numbers of A,C,G,U in the five and three prime. Returns a small dataframe that looks like:\n",
    "\n",
    "| pos         | A  | U | C | G |\n",
    "|-------------|----|---|---|---|\n",
    "| five prime  | 10 | 2 | 5 | 6 |\n",
    "\n",
    "\n",
    "\n"
   ]
  },
  {
   "cell_type": "markdown",
   "metadata": {},
   "source": [
    "## Step 0 import modules and create helper functions"
   ]
  },
  {
   "cell_type": "code",
   "execution_count": 82,
   "metadata": {},
   "outputs": [],
   "source": [
    "import pandas as pd\n",
    "from collections import Counter\n",
    "import seaborn as sns\n",
    "\n",
    "def get_list_of_five_prime_nucleotides(list_of_srna_sequences):\n",
    "    \"from a list of sRNA sequences, extracts the five prime nucleotide and returns a list\"\n",
    "    five_prime_nucleotides = [seq[0] for seq in list_of_srna_sequences]\n",
    "    return five_prime_nucleotides\n",
    "\n",
    "def get_list_of_three_prime_nucleotides(list_of_srna_sequences):\n",
    "    \"from a list of sRNA sequences, extracts the three prime nucleotide and returns a list\"\n",
    "    three_prime_nucleotides = [seq[-1] for seq in list_of_srna_sequences]\n",
    "    return three_prime_nucleotides\n",
    "\n",
    "\n",
    "def count_nucleotides(list_of_srna_sequences):\n",
    "    \"takes a list of small RNA sequences and returns the counts of each nucleotide in a dictionary\"\n",
    "    cnt = Counter(list_of_srna_sequences)\n",
    "    d = {}\n",
    "    for key,value in cnt.items():\n",
    "        d[key]=value\n",
    "    return d\n",
    "\n",
    "\n",
    "def create_barplot_from_end_nucleotide_counts(shortstack_result_dataframe,end=[\"five\",\"three\"]):\n",
    "    \"reads a ShortStack result dataframe and counts the number of A/C/G/U of the Major RNA 5' nucleotides\"\n",
    "    df = pd.read_csv(shortstack_result_dataframe,sep=\"\\t\")\n",
    "    majorRNAs = df['MajorRNA'].tolist()\n",
    "    if end == \"five\":\n",
    "        end_nucleotides = get_list_of_five_prime_nucleotides(majorRNAs)\n",
    "    elif end == \"three\":\n",
    "        end_nucleotides = get_list_of_three_prime_nucleotides(majorRNAs)\n",
    "    else:\n",
    "        print(\"the end argument should be equal to either 'five' or 'three'\")\n",
    "    # counts occurences of nucleotides\n",
    "    cnt_dict = count_nucleotides(end_nucleotides)\n",
    "    # converts the dictoinary into a dataframe\n",
    "    counts = pd.DataFrame.from_dict(cnt_dict,orient=\"index\")\n",
    "    counts = counts.reset_index()\n",
    "    if end == \"five\":\n",
    "        counts.columns=[\"nucleotide\",\"five_prime_counts\"]\n",
    "        fig = sns.barplot(data=counts,x=\"nucleotide\",y=\"five_prime_counts\")\n",
    "    elif end == \"three\":\n",
    "        counts.columns=[\"nucleotide\",\"three_prime_counts\"]\n",
    "        fig = sns.barplot(data=counts,x=\"nucleotide\",y=\"three_prime_counts\")\n",
    "    return fig\n"
   ]
  },
  {
   "cell_type": "markdown",
   "metadata": {},
   "source": [
    "## Make the barplot of 5' nucleotide occurences "
   ]
  },
  {
   "cell_type": "code",
   "execution_count": 83,
   "metadata": {},
   "outputs": [
    {
     "data": {
      "text/plain": [
       "<matplotlib.axes._subplots.AxesSubplot at 0x1a281e0438>"
      ]
     },
     "execution_count": 83,
     "metadata": {},
     "output_type": "execute_result"
    },
    {
     "data": {
      "image/png": "[encoded data removed]",
      "text/plain": [
       "<Figure size 432x288 with 1 Axes>"
      ]
     },
     "metadata": {
      "needs_background": "light"
     },
     "output_type": "display_data"
    }
   ],
   "source": [
    "create_barplot_from_end_nucleotide_counts(\"../test/Results.txt\",end=\"five\")"
   ]
  },
  {
   "cell_type": "markdown",
   "metadata": {},
   "source": [
    "## Make the barplot of 3' nucleotide occurences"
   ]
  },
  {
   "cell_type": "code",
   "execution_count": 85,
   "metadata": {},
   "outputs": [
    {
     "data": {
      "text/plain": [
       "<matplotlib.axes._subplots.AxesSubplot at 0x1a2b17d1d0>"
      ]
     },
     "execution_count": 85,
     "metadata": {},
     "output_type": "execute_result"
    },
    {
     "data": {
      "image/png": "[encoded data removed]",
      "text/plain": [
       "<Figure size 432x288 with 1 Axes>"
      ]
     },
     "metadata": {
      "needs_background": "light"
     },
     "output_type": "display_data"
    }
   ],
   "source": [
    "create_barplot_from_end_nucleotide_counts(\"../test/Results.txt\",end=\"three\")"
   ]
  },
  {
   "cell_type": "code",
   "execution_count": null,
   "metadata": {},
   "outputs": [],
   "source": []
  }
 ],
 "metadata": {
  "kernelspec": {
   "display_name": "Python 3",
   "language": "python",
   "name": "python3"
  },
  "language_info": {
   "codemirror_mode": {
    "name": "ipython",
    "version": 3
   },
   "file_extension": ".py",
   "mimetype": "text/x-python",
   "name": "python",
   "nbconvert_exporter": "python",
   "pygments_lexer": "ipython3",
   "version": "3.7.1"
  }
 },
 "nbformat": 4,
 "nbformat_minor": 2
}
