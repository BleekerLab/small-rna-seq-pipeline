{
 "cells": [
  {
   "cell_type": "markdown",
   "metadata": {},
   "source": [
    "## what this script does\n",
    "It takes a shortstack result dataframe and generate a barplot with the numbers of A,C,G,U found in the sequences of the MajorRNA column"
   ]
  },
  {
   "cell_type": "markdown",
   "metadata": {},
   "source": [
    "## Steps\n",
    "\n",
    "1. Reads a shortstack result dataframe\n",
    "2. extracts the majorRNA column and puts it into a list\n",
    "3. extracts the first nucleotide from the first column\n",
    "4. builds a dataframe that stores this information.\n",
    "5. makes a barplot with one bar per letter (n=4, x-axis) and the number of times the letter was found.\n",
    "\n",
    "**Dataframe with the information**: from a list of sequences, count the numbers of A,C,G,U in the five and three prime. Returns a small dataframe that looks like:\n",
    "\n",
    "| pos         | A  | U | C | G |\n",
    "|-------------|----|---|---|---|\n",
    "| five prime  | 10 | 2 | 5 | 6 |\n",
    "\n",
    "\n",
    "\n"
   ]
  },
  {
   "cell_type": "markdown",
   "metadata": {},
   "source": [
    "## Step 0 import modules and create helper functions"
   ]
  },
  {
   "cell_type": "code",
   "execution_count": 65,
   "metadata": {},
   "outputs": [],
   "source": [
    "import pandas as pd\n",
    "from collections import Counter\n",
    "import seaborn as sns\n",
    "\n",
    "def count_five_prime_nucleotides(list_of_srna_sequences):\n",
    "    \"takes a list of small RNA sequences and returns the counts of each nucleotide in a dictionary\"\n",
    "    cnt = Counter(list_of_srna_sequences)\n",
    "    d = {}\n",
    "    for key,value in cnt.items():\n",
    "        d[key]=value\n",
    "    return d\n",
    "\n",
    "\n",
    "def create_barplot_from_five_prime_nucleotide_counts(shortstack_result_dataframe):\n",
    "    \"reads a ShortStack result dataframe and counts the number of A/C/G/U of the Major RNA 5' nucleotides\"\n",
    "    df = pd.read_csv(shortstack_result_dataframe,sep=\"\\t\")\n",
    "    majorRNAs = df['MajorRNA'].tolist()\n",
    "    five_prime_nucleotides = [seq[0] for seq in majorRNAs]\n",
    "    # counts occurences of nucleotides\n",
    "    cnt_dict = count_five_prime_nucleotides(five_prime_nucleotides)\n",
    "    # converts the dictoinary into a dataframe\n",
    "    counts = pd.DataFrame.from_dict(cnt_dict,orient=\"index\")\n",
    "    counts = counts.reset_index()\n",
    "    counts.columns=[\"nucleotide\",\"five_prime_counts\"]\n",
    "    fig = sns.barplot(data=counts,x=\"nucleotide\",y=\"five_prime_counts\")\n",
    "    return fig"
   ]
  },
  {
   "cell_type": "code",
   "execution_count": 73,
   "metadata": {},
   "outputs": [
    {
     "data": {
      "text/plain": [
       "<matplotlib.axes._subplots.AxesSubplot at 0x1a2a966080>"
      ]
     },
     "execution_count": 73,
     "metadata": {},
     "output_type": "execute_result"
    },
    {
     "data": {
      "image/png": "[encoded data removed]",
      "text/plain": [
       "<Figure size 432x288 with 1 Axes>"
      ]
     },
     "metadata": {
      "needs_background": "light"
     },
     "output_type": "display_data"
    }
   ],
   "source": [
    "create_barplot_from_five_prime_nucleotide_counts(\"../test/Results.txt\")"
   ]
  },
  {
   "cell_type": "markdown",
   "metadata": {},
   "source": [
    "## Step 3"
   ]
  },
  {
   "cell_type": "code",
   "execution_count": 68,
   "metadata": {},
   "outputs": [],
   "source": [
    "five_prime_nucleotides = [seq[0] for seq in majorRNAs]\n",
    "three_prime_nucleotides = [seq[-1] for seq in majorRNAs]"
   ]
  },
  {
   "cell_type": "markdown",
   "metadata": {},
   "source": [
    "## Step 4 & 5"
   ]
  },
  {
   "cell_type": "markdown",
   "metadata": {},
   "source": [
    "# Step 5"
   ]
  },
  {
   "cell_type": "code",
   "execution_count": 69,
   "metadata": {},
   "outputs": [
    {
     "data": {
      "text/plain": [
       "<matplotlib.axes._subplots.AxesSubplot at 0x1a26c37208>"
      ]
     },
     "execution_count": 69,
     "metadata": {},
     "output_type": "execute_result"
    },
    {
     "data": {
      "image/png": "[encoded data removed]",
      "text/plain": [
       "<Figure size 432x288 with 1 Axes>"
      ]
     },
     "metadata": {
      "needs_background": "light"
     },
     "output_type": "display_data"
    }
   ],
   "source": [
    "sns.barplot(data=counts,x=\"nucleotide\",y=\"five_prime_counts\")"
   ]
  },
  {
   "cell_type": "markdown",
   "metadata": {},
   "source": [
    "# Next exercise: making a function out of these steps\n",
    "It should:\n",
    "1. Take a Shortstack result file as input\n",
    "2. Returns a figure object that can be printed"
   ]
  },
  {
   "cell_type": "code",
   "execution_count": 70,
   "metadata": {},
   "outputs": [],
   "source": [
    "def create_barplot_from_five_prime_nucleotide_counts(shortstack_result_dataframe):\n",
    "    \"reads a ShortStack result dataframe and counts the number of A/C/G/U of the Major RNA 5' nucleotides\"\n",
    "    df = pd.read_csv(shortstack_result_dataframe,sep=\"\\t\")\n",
    "    majorRNAs = df['MajorRNA'].tolist()\n",
    "    five_prime_nucleotides = [seq[0] for seq in majorRNAs]\n",
    "    # counts occurences of nucleotides\n",
    "    cnt_dict = count_five_prime_nucleotides(five_prime_nucleotides)\n",
    "    # converts the dictoinary into a dataframe\n",
    "    counts = pd.DataFrame.from_dict(cnt_dict,orient=\"index\")\n",
    "    counts = counts.reset_index()\n",
    "    counts.columns=[\"nucleotide\",\"five_prime_counts\"]\n",
    "    fig = sns.barplot(data=counts,x=\"nucleotide\",y=\"five_prime_counts\")\n",
    "    return fig\n"
   ]
  },
  {
   "cell_type": "code",
   "execution_count": 71,
   "metadata": {},
   "outputs": [
    {
     "data": {
      "text/plain": [
       "<matplotlib.axes._subplots.AxesSubplot at 0x1a29c14f60>"
      ]
     },
     "execution_count": 71,
     "metadata": {},
     "output_type": "execute_result"
    },
    {
     "data": {
      "image/png": "[encoded data removed]",
      "text/plain": [
       "<Figure size 432x288 with 1 Axes>"
      ]
     },
     "metadata": {
      "needs_background": "light"
     },
     "output_type": "display_data"
    }
   ],
   "source": [
    "create_barplot_from_five_prime_nucleotide_counts(\"../test/Results.txt\")"
   ]
  },
  {
   "cell_type": "code",
   "execution_count": null,
   "metadata": {},
   "outputs": [],
   "source": []
  }
 ],
 "metadata": {
  "kernelspec": {
   "display_name": "Python 3",
   "language": "python",
   "name": "python3"
  },
  "language_info": {
   "codemirror_mode": {
    "name": "ipython",
    "version": 3
   },
   "file_extension": ".py",
   "mimetype": "text/x-python",
   "name": "python",
   "nbconvert_exporter": "python",
   "pygments_lexer": "ipython3",
   "version": "3.7.1"
  }
 },
 "nbformat": 4,
 "nbformat_minor": 2
}
