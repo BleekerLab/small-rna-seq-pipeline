{
 "cells": [
  {
   "cell_type": "markdown",
   "metadata": {},
   "source": [
    "## what this script does\n",
    "It takes a shortstack result dataframe and generate a barplot with the numbers of A,C,G,U found in the sequences of the MajorRNA column"
   ]
  },
  {
   "cell_type": "markdown",
   "metadata": {},
   "source": [
    "## Steps\n",
    "\n",
    "1. Reads a shortstack result dataframe\n",
    "2. extracts the majorRNA column and puts it into a list\n",
    "3. extracts the first nucleotide from the first column\n",
    "4. builds a dataframe that stores this information.\n",
    "5. makes a barplot with one bar per letter (n=4, x-axis) and the number of times the letter was found.\n",
    "\n",
    "**Dataframe with the information**: from a list of sequences, count the numbers of A,C,G,U in the five and three prime. Returns a small dataframe that looks like:\n",
    "\n",
    "| pos         | A  | U | C | G |\n",
    "|-------------|----|---|---|---|\n",
    "| five prime  | 10 | 2 | 5 | 6 |\n",
    "\n",
    "\n",
    "\n"
   ]
  },
  {
   "cell_type": "markdown",
   "metadata": {},
   "source": [
    "## Step 1"
   ]
  },
  {
   "cell_type": "code",
   "execution_count": 1,
   "metadata": {},
   "outputs": [],
   "source": [
    "import pandas as pd\n",
    "from collections import Counter\n",
    "import seaborn as sns"
   ]
  },
  {
   "cell_type": "code",
   "execution_count": 2,
   "metadata": {},
   "outputs": [
    {
     "data": {
      "text/html": [
       "<div>\n",
       "<style scoped>\n",
       "    .dataframe tbody tr th:only-of-type {\n",
       "        vertical-align: middle;\n",
       "    }\n",
       "\n",
       "    .dataframe tbody tr th {\n",
       "        vertical-align: top;\n",
       "    }\n",
       "\n",
       "    .dataframe thead th {\n",
       "        text-align: right;\n",
       "    }\n",
       "</style>\n",
       "<table border=\"1\" class=\"dataframe\">\n",
       "  <thead>\n",
       "    <tr style=\"text-align: right;\">\n",
       "      <th></th>\n",
       "      <th>#Locus</th>\n",
       "      <th>Name</th>\n",
       "      <th>Length</th>\n",
       "      <th>Reads</th>\n",
       "      <th>RPM</th>\n",
       "      <th>UniqueReads</th>\n",
       "      <th>FracTop</th>\n",
       "      <th>Strand</th>\n",
       "      <th>MajorRNA</th>\n",
       "      <th>MajorRNAReads</th>\n",
       "      <th>...</th>\n",
       "      <th>DicerCall</th>\n",
       "      <th>MIRNA</th>\n",
       "      <th>PhaseScore</th>\n",
       "      <th>Short</th>\n",
       "      <th>Long</th>\n",
       "      <th>20</th>\n",
       "      <th>21</th>\n",
       "      <th>22</th>\n",
       "      <th>23</th>\n",
       "      <th>24</th>\n",
       "    </tr>\n",
       "  </thead>\n",
       "  <tbody>\n",
       "    <tr>\n",
       "      <th>0</th>\n",
       "      <td>SL3.0ch00:1100514-1100780</td>\n",
       "      <td>Cluster_1</td>\n",
       "      <td>267</td>\n",
       "      <td>29</td>\n",
       "      <td>10.864</td>\n",
       "      <td>6</td>\n",
       "      <td>0.517</td>\n",
       "      <td>.</td>\n",
       "      <td>ACAAAUAGACACACAUGUCCCACA</td>\n",
       "      <td>3</td>\n",
       "      <td>...</td>\n",
       "      <td>24</td>\n",
       "      <td>N6</td>\n",
       "      <td>0.9</td>\n",
       "      <td>0</td>\n",
       "      <td>0</td>\n",
       "      <td>2</td>\n",
       "      <td>2</td>\n",
       "      <td>1</td>\n",
       "      <td>4</td>\n",
       "      <td>20</td>\n",
       "    </tr>\n",
       "    <tr>\n",
       "      <th>1</th>\n",
       "      <td>SL3.0ch00:1143651-1143766</td>\n",
       "      <td>Cluster_2</td>\n",
       "      <td>116</td>\n",
       "      <td>21</td>\n",
       "      <td>7.867</td>\n",
       "      <td>3</td>\n",
       "      <td>0.286</td>\n",
       "      <td>.</td>\n",
       "      <td>ACACACAGAGAGUUUUUUAGCAGC</td>\n",
       "      <td>3</td>\n",
       "      <td>...</td>\n",
       "      <td>24</td>\n",
       "      <td>N6</td>\n",
       "      <td>0.2</td>\n",
       "      <td>1</td>\n",
       "      <td>1</td>\n",
       "      <td>0</td>\n",
       "      <td>0</td>\n",
       "      <td>1</td>\n",
       "      <td>0</td>\n",
       "      <td>18</td>\n",
       "    </tr>\n",
       "    <tr>\n",
       "      <th>2</th>\n",
       "      <td>SL3.0ch00:1144702-1144868</td>\n",
       "      <td>Cluster_3</td>\n",
       "      <td>167</td>\n",
       "      <td>24</td>\n",
       "      <td>8.991</td>\n",
       "      <td>4</td>\n",
       "      <td>0.500</td>\n",
       "      <td>.</td>\n",
       "      <td>AAAGUUCACGGAGCAAACAGAAAU</td>\n",
       "      <td>4</td>\n",
       "      <td>...</td>\n",
       "      <td>24</td>\n",
       "      <td>N6</td>\n",
       "      <td>0.4</td>\n",
       "      <td>0</td>\n",
       "      <td>0</td>\n",
       "      <td>0</td>\n",
       "      <td>0</td>\n",
       "      <td>1</td>\n",
       "      <td>4</td>\n",
       "      <td>19</td>\n",
       "    </tr>\n",
       "    <tr>\n",
       "      <th>3</th>\n",
       "      <td>SL3.0ch00:1809741-1810064</td>\n",
       "      <td>Cluster_4</td>\n",
       "      <td>324</td>\n",
       "      <td>29</td>\n",
       "      <td>10.864</td>\n",
       "      <td>8</td>\n",
       "      <td>0.621</td>\n",
       "      <td>.</td>\n",
       "      <td>AUCAACCUCUUUAACCACCAACUA</td>\n",
       "      <td>3</td>\n",
       "      <td>...</td>\n",
       "      <td>24</td>\n",
       "      <td>N6</td>\n",
       "      <td>0.4</td>\n",
       "      <td>0</td>\n",
       "      <td>1</td>\n",
       "      <td>0</td>\n",
       "      <td>0</td>\n",
       "      <td>0</td>\n",
       "      <td>2</td>\n",
       "      <td>26</td>\n",
       "    </tr>\n",
       "    <tr>\n",
       "      <th>4</th>\n",
       "      <td>SL3.0ch00:2513793-2514368</td>\n",
       "      <td>Cluster_5</td>\n",
       "      <td>576</td>\n",
       "      <td>33</td>\n",
       "      <td>12.362</td>\n",
       "      <td>5</td>\n",
       "      <td>0.697</td>\n",
       "      <td>.</td>\n",
       "      <td>GAAAUUCUCCAUCAGCAUGCUCCA</td>\n",
       "      <td>3</td>\n",
       "      <td>...</td>\n",
       "      <td>24</td>\n",
       "      <td>N6</td>\n",
       "      <td>0.8</td>\n",
       "      <td>1</td>\n",
       "      <td>1</td>\n",
       "      <td>0</td>\n",
       "      <td>0</td>\n",
       "      <td>3</td>\n",
       "      <td>3</td>\n",
       "      <td>25</td>\n",
       "    </tr>\n",
       "  </tbody>\n",
       "</table>\n",
       "<p>5 rows × 21 columns</p>\n",
       "</div>"
      ],
      "text/plain": [
       "                      #Locus       Name  Length  Reads     RPM  UniqueReads  \\\n",
       "0  SL3.0ch00:1100514-1100780  Cluster_1     267     29  10.864            6   \n",
       "1  SL3.0ch00:1143651-1143766  Cluster_2     116     21   7.867            3   \n",
       "2  SL3.0ch00:1144702-1144868  Cluster_3     167     24   8.991            4   \n",
       "3  SL3.0ch00:1809741-1810064  Cluster_4     324     29  10.864            8   \n",
       "4  SL3.0ch00:2513793-2514368  Cluster_5     576     33  12.362            5   \n",
       "\n",
       "   FracTop Strand                  MajorRNA  MajorRNAReads ...  DicerCall  \\\n",
       "0    0.517      .  ACAAAUAGACACACAUGUCCCACA              3 ...         24   \n",
       "1    0.286      .  ACACACAGAGAGUUUUUUAGCAGC              3 ...         24   \n",
       "2    0.500      .  AAAGUUCACGGAGCAAACAGAAAU              4 ...         24   \n",
       "3    0.621      .  AUCAACCUCUUUAACCACCAACUA              3 ...         24   \n",
       "4    0.697      .  GAAAUUCUCCAUCAGCAUGCUCCA              3 ...         24   \n",
       "\n",
       "  MIRNA PhaseScore  Short  Long  20  21  22  23  24  \n",
       "0    N6        0.9      0     0   2   2   1   4  20  \n",
       "1    N6        0.2      1     1   0   0   1   0  18  \n",
       "2    N6        0.4      0     0   0   0   1   4  19  \n",
       "3    N6        0.4      0     1   0   0   0   2  26  \n",
       "4    N6        0.8      1     1   0   0   3   3  25  \n",
       "\n",
       "[5 rows x 21 columns]"
      ]
     },
     "execution_count": 2,
     "metadata": {},
     "output_type": "execute_result"
    }
   ],
   "source": [
    "df = pd.read_csv(\"../test/Results.txt\", sep= '\\t')\n",
    "df.head()"
   ]
  },
  {
   "cell_type": "markdown",
   "metadata": {},
   "source": [
    "## Step 2"
   ]
  },
  {
   "cell_type": "code",
   "execution_count": 3,
   "metadata": {},
   "outputs": [],
   "source": [
    "majorRNAs = df['MajorRNA'].tolist()"
   ]
  },
  {
   "cell_type": "markdown",
   "metadata": {},
   "source": [
    "## Step 3"
   ]
  },
  {
   "cell_type": "code",
   "execution_count": 4,
   "metadata": {},
   "outputs": [],
   "source": [
    "five_prime_nucleotides = [seq[0] for seq in majorRNAs]"
   ]
  },
  {
   "cell_type": "markdown",
   "metadata": {},
   "source": [
    "## Step 4"
   ]
  },
  {
   "cell_type": "code",
   "execution_count": 5,
   "metadata": {},
   "outputs": [
    {
     "data": {
      "text/plain": [
       "{'A': 15347, 'G': 4079, 'U': 2318, 'C': 779}"
      ]
     },
     "execution_count": 5,
     "metadata": {},
     "output_type": "execute_result"
    }
   ],
   "source": [
    "# counts occurences of nucleotides\n",
    "cnt = Counter(five_prime_nucleotides)\n",
    "# creates a dictionary from the counter\n",
    "cnt_dict = {}\n",
    "for key, value in cnt.items():\n",
    "    cnt_dict[key] = value\n",
    "cnt_dict"
   ]
  },
  {
   "cell_type": "code",
   "execution_count": 31,
   "metadata": {},
   "outputs": [
    {
     "data": {
      "text/html": [
       "<div>\n",
       "<style scoped>\n",
       "    .dataframe tbody tr th:only-of-type {\n",
       "        vertical-align: middle;\n",
       "    }\n",
       "\n",
       "    .dataframe tbody tr th {\n",
       "        vertical-align: top;\n",
       "    }\n",
       "\n",
       "    .dataframe thead th {\n",
       "        text-align: right;\n",
       "    }\n",
       "</style>\n",
       "<table border=\"1\" class=\"dataframe\">\n",
       "  <thead>\n",
       "    <tr style=\"text-align: right;\">\n",
       "      <th></th>\n",
       "      <th>nucleotide</th>\n",
       "      <th>five_prime_counts</th>\n",
       "    </tr>\n",
       "  </thead>\n",
       "  <tbody>\n",
       "    <tr>\n",
       "      <th>0</th>\n",
       "      <td>A</td>\n",
       "      <td>15347</td>\n",
       "    </tr>\n",
       "    <tr>\n",
       "      <th>1</th>\n",
       "      <td>G</td>\n",
       "      <td>4079</td>\n",
       "    </tr>\n",
       "    <tr>\n",
       "      <th>2</th>\n",
       "      <td>U</td>\n",
       "      <td>2318</td>\n",
       "    </tr>\n",
       "    <tr>\n",
       "      <th>3</th>\n",
       "      <td>C</td>\n",
       "      <td>779</td>\n",
       "    </tr>\n",
       "  </tbody>\n",
       "</table>\n",
       "</div>"
      ],
      "text/plain": [
       "  nucleotide  five_prime_counts\n",
       "0          A              15347\n",
       "1          G               4079\n",
       "2          U               2318\n",
       "3          C                779"
      ]
     },
     "execution_count": 31,
     "metadata": {},
     "output_type": "execute_result"
    }
   ],
   "source": [
    "# converts the dictoinary into a dataframe\n",
    "counts = pd.DataFrame.from_dict(cnt_dict,orient=\"index\")\n",
    "counts = counts.reset_index()\n",
    "counts.columns=[\"nucleotide\",\"five_prime_counts\"]\n",
    "counts.head()"
   ]
  },
  {
   "cell_type": "markdown",
   "metadata": {},
   "source": [
    "# Step 5"
   ]
  },
  {
   "cell_type": "code",
   "execution_count": 33,
   "metadata": {},
   "outputs": [
    {
     "data": {
      "text/plain": [
       "<matplotlib.axes._subplots.AxesSubplot at 0x1a26c19208>"
      ]
     },
     "execution_count": 33,
     "metadata": {},
     "output_type": "execute_result"
    },
    {
     "data": {
      "image/png": "[encoded data removed]",
      "text/plain": [
       "<Figure size 432x288 with 1 Axes>"
      ]
     },
     "metadata": {
      "needs_background": "light"
     },
     "output_type": "display_data"
    }
   ],
   "source": [
    "sns.barplot(data=counts,x=\"nucleotide\",y=\"five_prime_counts\")"
   ]
  },
  {
   "cell_type": "markdown",
   "metadata": {},
   "source": [
    "# Next exercise: making a function out of these steps\n",
    "It should:\n",
    "1. Take a Shortstack result file as input\n",
    "2. Returns a figure object that can be printed"
   ]
  },
  {
   "cell_type": "code",
   "execution_count": null,
   "metadata": {},
   "outputs": [],
   "source": [
    "def create_barplot_five_prime_nucleotide(shortstack_result_dataframe):\n",
    "    \"reads a ShortStack result dataframe and counts the number of A/C/G/U of the Major RNA 5' nucleotides\"\n",
    "    df = pd.read_csv(shortstack_result_dataframe,sep=\"\\t\")\n",
    "    majorRNAs = df['MajorRNA'].tolist()\n",
    "    five_prime_nucleotides = [seq[0] for seq in majorRNAs]\n",
    "    # counts occurences of nucleotides\n",
    "    cnt = Counter(five_prime_nucleotides)\n",
    "    # creates a dictionary from the counter\n",
    "    cnt_dict = {}\n",
    "    for key, value in cnt.items():\n",
    "        cnt_dict[key] = value\n",
    "        cnt_dict\n",
    "    # converts the dictoinary into a dataframe\n",
    "    counts = pd.DataFrame.from_dict(cnt_dict,orient=\"index\")\n",
    "    counts = counts.reset_index()\n",
    "    counts.columns=[\"nucleotide\",\"five_prime_counts\"]\n"
   ]
  }
 ],
 "metadata": {
  "kernelspec": {
   "display_name": "Python 3",
   "language": "python",
   "name": "python3"
  },
  "language_info": {
   "codemirror_mode": {
    "name": "ipython",
    "version": 3
   },
   "file_extension": ".py",
   "mimetype": "text/x-python",
   "name": "python",
   "nbconvert_exporter": "python",
   "pygments_lexer": "ipython3",
   "version": "3.7.1"
  }
 },
 "nbformat": 4,
 "nbformat_minor": 2
}
