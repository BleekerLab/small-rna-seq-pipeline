{
 "cells": [
  {
   "cell_type": "markdown",
   "metadata": {},
   "source": [
    "## what this script does\n",
    "It takes a shortstack result dataframe and generate a barplot with the numbers of A,C,G,U found in the sequences of the MajorRNA column"
   ]
  },
  {
   "cell_type": "markdown",
   "metadata": {},
   "source": [
    "## Steps\n",
    "\n",
    "1. Reads a shortstack result dataframe\n",
    "2. extracts the majorRNA column and puts it into a list\n",
    "3. extracts the first nucleotide from the first column\n",
    "4. builds a dataframe that stores this information.\n",
    "5. makes a barplot with one bar per letter (n=4, x-axis) and the number of times the letter was found.\n",
    "\n",
    "**Dataframe with the information**: from a list of sequences, count the numbers of A,C,G,U in the five and three prime. Returns a small dataframe that looks like:\n",
    "\n",
    "| pos         | A  | U | C | G |\n",
    "|-------------|----|---|---|---|\n",
    "| five prime  | 10 | 2 | 5 | 6 |\n",
    "\n",
    "\n",
    "\n"
   ]
  },
  {
   "cell_type": "markdown",
   "metadata": {},
   "source": [
    "## Step 1"
   ]
  },
  {
   "cell_type": "code",
   "execution_count": 61,
   "metadata": {},
   "outputs": [
    {
     "ename": "ModuleNotFoundError",
     "evalue": "No module named 'seaborn'",
     "output_type": "error",
     "traceback": [
      "\u001b[0;31m---------------------------------------------------------------------------\u001b[0m",
      "\u001b[0;31mModuleNotFoundError\u001b[0m                       Traceback (most recent call last)",
      "\u001b[0;32m<ipython-input-61-8f3308e0eed1>\u001b[0m in \u001b[0;36m<module>\u001b[0;34m\u001b[0m\n\u001b[1;32m      1\u001b[0m \u001b[0;32mimport\u001b[0m \u001b[0mpandas\u001b[0m \u001b[0;32mas\u001b[0m \u001b[0mpd\u001b[0m\u001b[0;34m\u001b[0m\u001b[0;34m\u001b[0m\u001b[0m\n\u001b[1;32m      2\u001b[0m \u001b[0;32mfrom\u001b[0m \u001b[0mcollections\u001b[0m \u001b[0;32mimport\u001b[0m \u001b[0mCounter\u001b[0m\u001b[0;34m\u001b[0m\u001b[0;34m\u001b[0m\u001b[0m\n\u001b[0;32m----> 3\u001b[0;31m \u001b[0;32mimport\u001b[0m \u001b[0mseaborn\u001b[0m \u001b[0;32mas\u001b[0m \u001b[0msns\u001b[0m\u001b[0;34m\u001b[0m\u001b[0;34m\u001b[0m\u001b[0m\n\u001b[0m",
      "\u001b[0;31mModuleNotFoundError\u001b[0m: No module named 'seaborn'"
     ]
    }
   ],
   "source": [
    "import pandas as pd\n",
    "from collections import Counter\n",
    "import seaborn as sns"
   ]
  },
  {
   "cell_type": "code",
   "execution_count": 34,
   "metadata": {},
   "outputs": [
    {
     "data": {
      "text/html": [
       "<div>\n",
       "<style scoped>\n",
       "    .dataframe tbody tr th:only-of-type {\n",
       "        vertical-align: middle;\n",
       "    }\n",
       "\n",
       "    .dataframe tbody tr th {\n",
       "        vertical-align: top;\n",
       "    }\n",
       "\n",
       "    .dataframe thead th {\n",
       "        text-align: right;\n",
       "    }\n",
       "</style>\n",
       "<table border=\"1\" class=\"dataframe\">\n",
       "  <thead>\n",
       "    <tr style=\"text-align: right;\">\n",
       "      <th></th>\n",
       "      <th>#Locus</th>\n",
       "      <th>Name</th>\n",
       "      <th>Length</th>\n",
       "      <th>Reads</th>\n",
       "      <th>RPM</th>\n",
       "      <th>UniqueReads</th>\n",
       "      <th>FracTop</th>\n",
       "      <th>Strand</th>\n",
       "      <th>MajorRNA</th>\n",
       "      <th>MajorRNAReads</th>\n",
       "      <th>...</th>\n",
       "      <th>DicerCall</th>\n",
       "      <th>MIRNA</th>\n",
       "      <th>PhaseScore</th>\n",
       "      <th>Short</th>\n",
       "      <th>Long</th>\n",
       "      <th>20</th>\n",
       "      <th>21</th>\n",
       "      <th>22</th>\n",
       "      <th>23</th>\n",
       "      <th>24</th>\n",
       "    </tr>\n",
       "  </thead>\n",
       "  <tbody>\n",
       "    <tr>\n",
       "      <th>0</th>\n",
       "      <td>SL3.0ch00:1100514-1100780</td>\n",
       "      <td>Cluster_1</td>\n",
       "      <td>267</td>\n",
       "      <td>29</td>\n",
       "      <td>10.864</td>\n",
       "      <td>6</td>\n",
       "      <td>0.517</td>\n",
       "      <td>.</td>\n",
       "      <td>ACAAAUAGACACACAUGUCCCACA</td>\n",
       "      <td>3</td>\n",
       "      <td>...</td>\n",
       "      <td>24</td>\n",
       "      <td>N6</td>\n",
       "      <td>0.9</td>\n",
       "      <td>0</td>\n",
       "      <td>0</td>\n",
       "      <td>2</td>\n",
       "      <td>2</td>\n",
       "      <td>1</td>\n",
       "      <td>4</td>\n",
       "      <td>20</td>\n",
       "    </tr>\n",
       "    <tr>\n",
       "      <th>1</th>\n",
       "      <td>SL3.0ch00:1143651-1143766</td>\n",
       "      <td>Cluster_2</td>\n",
       "      <td>116</td>\n",
       "      <td>21</td>\n",
       "      <td>7.867</td>\n",
       "      <td>3</td>\n",
       "      <td>0.286</td>\n",
       "      <td>.</td>\n",
       "      <td>ACACACAGAGAGUUUUUUAGCAGC</td>\n",
       "      <td>3</td>\n",
       "      <td>...</td>\n",
       "      <td>24</td>\n",
       "      <td>N6</td>\n",
       "      <td>0.2</td>\n",
       "      <td>1</td>\n",
       "      <td>1</td>\n",
       "      <td>0</td>\n",
       "      <td>0</td>\n",
       "      <td>1</td>\n",
       "      <td>0</td>\n",
       "      <td>18</td>\n",
       "    </tr>\n",
       "    <tr>\n",
       "      <th>2</th>\n",
       "      <td>SL3.0ch00:1144702-1144868</td>\n",
       "      <td>Cluster_3</td>\n",
       "      <td>167</td>\n",
       "      <td>24</td>\n",
       "      <td>8.991</td>\n",
       "      <td>4</td>\n",
       "      <td>0.500</td>\n",
       "      <td>.</td>\n",
       "      <td>AAAGUUCACGGAGCAAACAGAAAU</td>\n",
       "      <td>4</td>\n",
       "      <td>...</td>\n",
       "      <td>24</td>\n",
       "      <td>N6</td>\n",
       "      <td>0.4</td>\n",
       "      <td>0</td>\n",
       "      <td>0</td>\n",
       "      <td>0</td>\n",
       "      <td>0</td>\n",
       "      <td>1</td>\n",
       "      <td>4</td>\n",
       "      <td>19</td>\n",
       "    </tr>\n",
       "    <tr>\n",
       "      <th>3</th>\n",
       "      <td>SL3.0ch00:1809741-1810064</td>\n",
       "      <td>Cluster_4</td>\n",
       "      <td>324</td>\n",
       "      <td>29</td>\n",
       "      <td>10.864</td>\n",
       "      <td>8</td>\n",
       "      <td>0.621</td>\n",
       "      <td>.</td>\n",
       "      <td>AUCAACCUCUUUAACCACCAACUA</td>\n",
       "      <td>3</td>\n",
       "      <td>...</td>\n",
       "      <td>24</td>\n",
       "      <td>N6</td>\n",
       "      <td>0.4</td>\n",
       "      <td>0</td>\n",
       "      <td>1</td>\n",
       "      <td>0</td>\n",
       "      <td>0</td>\n",
       "      <td>0</td>\n",
       "      <td>2</td>\n",
       "      <td>26</td>\n",
       "    </tr>\n",
       "    <tr>\n",
       "      <th>4</th>\n",
       "      <td>SL3.0ch00:2513793-2514368</td>\n",
       "      <td>Cluster_5</td>\n",
       "      <td>576</td>\n",
       "      <td>33</td>\n",
       "      <td>12.362</td>\n",
       "      <td>5</td>\n",
       "      <td>0.697</td>\n",
       "      <td>.</td>\n",
       "      <td>GAAAUUCUCCAUCAGCAUGCUCCA</td>\n",
       "      <td>3</td>\n",
       "      <td>...</td>\n",
       "      <td>24</td>\n",
       "      <td>N6</td>\n",
       "      <td>0.8</td>\n",
       "      <td>1</td>\n",
       "      <td>1</td>\n",
       "      <td>0</td>\n",
       "      <td>0</td>\n",
       "      <td>3</td>\n",
       "      <td>3</td>\n",
       "      <td>25</td>\n",
       "    </tr>\n",
       "  </tbody>\n",
       "</table>\n",
       "<p>5 rows × 21 columns</p>\n",
       "</div>"
      ],
      "text/plain": [
       "                      #Locus       Name  Length  Reads     RPM  UniqueReads  \\\n",
       "0  SL3.0ch00:1100514-1100780  Cluster_1     267     29  10.864            6   \n",
       "1  SL3.0ch00:1143651-1143766  Cluster_2     116     21   7.867            3   \n",
       "2  SL3.0ch00:1144702-1144868  Cluster_3     167     24   8.991            4   \n",
       "3  SL3.0ch00:1809741-1810064  Cluster_4     324     29  10.864            8   \n",
       "4  SL3.0ch00:2513793-2514368  Cluster_5     576     33  12.362            5   \n",
       "\n",
       "   FracTop Strand                  MajorRNA  MajorRNAReads  ...  DicerCall  \\\n",
       "0    0.517      .  ACAAAUAGACACACAUGUCCCACA              3  ...         24   \n",
       "1    0.286      .  ACACACAGAGAGUUUUUUAGCAGC              3  ...         24   \n",
       "2    0.500      .  AAAGUUCACGGAGCAAACAGAAAU              4  ...         24   \n",
       "3    0.621      .  AUCAACCUCUUUAACCACCAACUA              3  ...         24   \n",
       "4    0.697      .  GAAAUUCUCCAUCAGCAUGCUCCA              3  ...         24   \n",
       "\n",
       "  MIRNA PhaseScore  Short  Long  20  21  22  23  24  \n",
       "0    N6        0.9      0     0   2   2   1   4  20  \n",
       "1    N6        0.2      1     1   0   0   1   0  18  \n",
       "2    N6        0.4      0     0   0   0   1   4  19  \n",
       "3    N6        0.4      0     1   0   0   0   2  26  \n",
       "4    N6        0.8      1     1   0   0   3   3  25  \n",
       "\n",
       "[5 rows x 21 columns]"
      ]
     },
     "execution_count": 34,
     "metadata": {},
     "output_type": "execute_result"
    }
   ],
   "source": [
    "df = pd.read_csv(\"../test/Results.txt\", sep= '\\t')\n",
    "df.head()"
   ]
  },
  {
   "cell_type": "markdown",
   "metadata": {},
   "source": [
    "## Step 2"
   ]
  },
  {
   "cell_type": "code",
   "execution_count": 35,
   "metadata": {},
   "outputs": [],
   "source": [
    "majorRNAs = df['MajorRNA'].tolist()"
   ]
  },
  {
   "cell_type": "markdown",
   "metadata": {},
   "source": [
    "## Step 3"
   ]
  },
  {
   "cell_type": "code",
   "execution_count": 36,
   "metadata": {},
   "outputs": [],
   "source": [
    "five_prime_nucleotides = [seq[0] for seq in majorRNAs]"
   ]
  },
  {
   "cell_type": "markdown",
   "metadata": {},
   "source": [
    "## Step 4"
   ]
  },
  {
   "cell_type": "code",
   "execution_count": 53,
   "metadata": {},
   "outputs": [
    {
     "data": {
      "text/plain": [
       "{'A': 15347, 'G': 4079, 'U': 2318, 'C': 779}"
      ]
     },
     "execution_count": 53,
     "metadata": {},
     "output_type": "execute_result"
    }
   ],
   "source": [
    "# counts occurences of nucleotides\n",
    "cnt = Counter(five_prime_nucleotides)\n",
    "# creates a dictionary from the counter\n",
    "cnt_dict = {}\n",
    "for key, value in cnt.items():\n",
    "    cnt_dict[key] = value\n",
    "cnt_dict"
   ]
  },
  {
   "cell_type": "code",
   "execution_count": 59,
   "metadata": {},
   "outputs": [
    {
     "data": {
      "text/html": [
       "<div>\n",
       "<style scoped>\n",
       "    .dataframe tbody tr th:only-of-type {\n",
       "        vertical-align: middle;\n",
       "    }\n",
       "\n",
       "    .dataframe tbody tr th {\n",
       "        vertical-align: top;\n",
       "    }\n",
       "\n",
       "    .dataframe thead th {\n",
       "        text-align: right;\n",
       "    }\n",
       "</style>\n",
       "<table border=\"1\" class=\"dataframe\">\n",
       "  <thead>\n",
       "    <tr style=\"text-align: right;\">\n",
       "      <th></th>\n",
       "      <th>0</th>\n",
       "    </tr>\n",
       "  </thead>\n",
       "  <tbody>\n",
       "    <tr>\n",
       "      <th>A</th>\n",
       "      <td>15347</td>\n",
       "    </tr>\n",
       "    <tr>\n",
       "      <th>G</th>\n",
       "      <td>4079</td>\n",
       "    </tr>\n",
       "    <tr>\n",
       "      <th>U</th>\n",
       "      <td>2318</td>\n",
       "    </tr>\n",
       "    <tr>\n",
       "      <th>C</th>\n",
       "      <td>779</td>\n",
       "    </tr>\n",
       "  </tbody>\n",
       "</table>\n",
       "</div>"
      ],
      "text/plain": [
       "       0\n",
       "A  15347\n",
       "G   4079\n",
       "U   2318\n",
       "C    779"
      ]
     },
     "execution_count": 59,
     "metadata": {},
     "output_type": "execute_result"
    }
   ],
   "source": [
    "# converts the dictoinary into a dataframe\n",
    "letter_counts = pd.DataFrame.from_dict(cnt_dict,orient=\"index\")"
   ]
  },
  {
   "cell_type": "markdown",
   "metadata": {},
   "source": [
    "# Step 5"
   ]
  },
  {
   "cell_type": "code",
   "execution_count": null,
   "metadata": {},
   "outputs": [],
   "source": []
  }
 ],
 "metadata": {
  "kernelspec": {
   "display_name": "Python 3",
   "language": "python",
   "name": "python3"
  },
  "language_info": {
   "codemirror_mode": {
    "name": "ipython",
    "version": 3
   },
   "file_extension": ".py",
   "mimetype": "text/x-python",
   "name": "python",
   "nbconvert_exporter": "python",
   "pygments_lexer": "ipython3",
   "version": "3.7.1"
  }
 },
 "nbformat": 4,
 "nbformat_minor": 2
}
